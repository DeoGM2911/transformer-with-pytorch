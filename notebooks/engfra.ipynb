{
 "cells": [
  {
   "cell_type": "markdown",
   "id": "d8a74d79",
   "metadata": {},
   "source": [
    "# English-French Translation with Seq2Seq Transformer"
   ]
  },
  {
   "cell_type": "code",
   "execution_count": 1,
   "id": "a34afa16",
   "metadata": {},
   "outputs": [],
   "source": [
    "import sys\n",
    "\n",
    "#  Add project directory\n",
    "sys.path.append(\"..\")"
   ]
  },
  {
   "cell_type": "code",
   "execution_count": 2,
   "id": "0864737c",
   "metadata": {},
   "outputs": [],
   "source": [
    "import torch\n",
    "from model.transformer import TransformerSeq2Seq, TransformerEncoder, TransformerDecoder\n",
    "from utils.loss import MaskedBCELoss\n",
    "from utils.train import minibatch_gd"
   ]
  },
  {
   "cell_type": "code",
   "execution_count": 3,
   "id": "9c91733b",
   "metadata": {},
   "outputs": [],
   "source": [
    "from data.engfra_trans import MTEngFra"
   ]
  },
  {
   "cell_type": "markdown",
   "id": "5320d875",
   "metadata": {},
   "source": [
    "## Initialize the dataset"
   ]
  },
  {
   "cell_type": "code",
   "execution_count": 4,
   "id": "6baac690",
   "metadata": {},
   "outputs": [],
   "source": [
    "# Dataset parameters\n",
    "data_path = \"../data\"\n",
    "num_steps = 10\n",
    "num_train = 200\n",
    "num_val = 50"
   ]
  },
  {
   "cell_type": "code",
   "execution_count": 5,
   "id": "b1142861",
   "metadata": {},
   "outputs": [
    {
     "name": "stdout",
     "output_type": "stream",
     "text": [
      "Dataset already downloaded and extracted.\n"
     ]
    }
   ],
   "source": [
    "dataset = MTEngFra(data_path, num_steps, num_train, num_val)"
   ]
  },
  {
   "cell_type": "code",
   "execution_count": 6,
   "id": "501b3f20",
   "metadata": {},
   "outputs": [
    {
     "name": "stdout",
     "output_type": "stream",
     "text": [
      "(tensor([[53, 11,  1,  2,  3,  3,  3,  3,  3,  3],\n",
      "        [71, 21,  5,  2,  3,  3,  3,  3,  3,  3]]), tensor([[ 0, 89, 89, 11,  3,  4,  4,  4,  4,  4],\n",
      "        [ 0, 89, 89,  2,  3,  4,  4,  4,  4,  4]]), tensor([[15, 27, 89,  2,  3,  4,  4,  4,  4,  4],\n",
      "        [69, 89, 70,  2,  3,  4,  4,  4,  4,  4]]), tensor([4, 4]))\n"
     ]
    }
   ],
   "source": [
    "# Test dataloader\n",
    "for _, data in enumerate(dataset.data_loader(batch_size=2)):\n",
    "    print(data)\n",
    "    break"
   ]
  },
  {
   "cell_type": "markdown",
   "id": "c680d404",
   "metadata": {},
   "source": [
    "## Prepare the model and optimizers"
   ]
  },
  {
   "cell_type": "code",
   "execution_count": 12,
   "id": "c94d11e8",
   "metadata": {},
   "outputs": [],
   "source": [
    "# Hyperparameters for the Transformer\n",
    "num_hiddens, enc_num_layers, dec_num_layers, dropout, batch_size = 32, 4, 8, 0.1, 32\n",
    "enc_num_heads, dec_num_heads, ffn_num_hiddens = 8, 16, 64\n",
    "src_vocab_size = len(dataset.src_vocab)\n",
    "tgt_vocab_size = len(dataset.tgt_vocab)\n",
    "\n",
    "# Hyperparameters for GD\n",
    "lr = 0.001\n",
    "num_epochs = 50"
   ]
  },
  {
   "cell_type": "code",
   "execution_count": 13,
   "id": "06452393",
   "metadata": {},
   "outputs": [],
   "source": [
    "# Initialize the modules\n",
    "encoder = TransformerEncoder(src_vocab_size, num_hiddens, enc_num_heads, enc_num_layers, ffn_num_hiddens, dropout)\n",
    "decoder = TransformerDecoder(tgt_vocab_size, num_hiddens, dec_num_heads, dec_num_layers, ffn_num_hiddens, dropout)\n",
    "model = TransformerSeq2Seq(encoder, decoder, dataset.tgt_vocab['<pad>'])\n",
    "\n",
    "# Criterions and Optimizer\n",
    "criterion = MaskedBCELoss(dataset.tgt_vocab['<pad>'])\n",
    "optimizer = torch.optim.Adam(model.parameters(), lr)"
   ]
  },
  {
   "cell_type": "code",
   "execution_count": 14,
   "id": "01f10a6b",
   "metadata": {},
   "outputs": [],
   "source": [
    "# Check the models\n",
    "from torchinfo import summary"
   ]
  },
  {
   "cell_type": "code",
   "execution_count": 15,
   "id": "ef3ef515",
   "metadata": {},
   "outputs": [
    {
     "data": {
      "text/plain": [
       "====================================================================================================================================================================================\n",
       "Layer (type:depth-idx)                                  Input Shape               Output Shape              Param #                   Kernel Shape              Mult-Adds\n",
       "====================================================================================================================================================================================\n",
       "TransformerSeq2Seq                                      [2, 5]                    [2, 5, 90]                --                        --                        --\n",
       "├─TransformerEncoder: 1-1                               [2, 5]                    [2, 5, 32]                --                        --                        --\n",
       "│    └─Embedding: 2-1                                   [2, 5]                    [2, 5, 32]                2,752                     --                        5,504\n",
       "│    └─PositionalEncoding: 2-2                          [2, 5, 32]                [2, 5, 32]                --                        --                        --\n",
       "│    └─Sequential: 2-3                                  --                        --                        --                        --                        --\n",
       "│    │    └─TransformerEncoderBlock: 3-1                [2, 5, 32]                [2, 5, 32]                --                        --                        --\n",
       "│    │    │    └─MultiHeadAttention: 4-1                [2, 5, 32]                [2, 5, 32]                4,128                     --                        8,256\n",
       "│    │    │    └─AddNorm: 4-2                           [2, 5, 32]                [2, 5, 32]                64                        --                        128\n",
       "│    │    │    └─PositionWiseFFN: 4-3                   [2, 5, 32]                [2, 5, 32]                4,192                     --                        8,384\n",
       "│    │    │    └─AddNorm: 4-4                           [2, 5, 32]                [2, 5, 32]                64                        --                        128\n",
       "│    │    └─TransformerEncoderBlock: 3-2                [2, 5, 32]                [2, 5, 32]                --                        --                        --\n",
       "│    │    │    └─MultiHeadAttention: 4-5                [2, 5, 32]                [2, 5, 32]                4,128                     --                        8,256\n",
       "│    │    │    └─AddNorm: 4-6                           [2, 5, 32]                [2, 5, 32]                64                        --                        128\n",
       "│    │    │    └─PositionWiseFFN: 4-7                   [2, 5, 32]                [2, 5, 32]                4,192                     --                        8,384\n",
       "│    │    │    └─AddNorm: 4-8                           [2, 5, 32]                [2, 5, 32]                64                        --                        128\n",
       "│    │    └─TransformerEncoderBlock: 3-3                [2, 5, 32]                [2, 5, 32]                --                        --                        --\n",
       "│    │    │    └─MultiHeadAttention: 4-9                [2, 5, 32]                [2, 5, 32]                4,128                     --                        8,256\n",
       "│    │    │    └─AddNorm: 4-10                          [2, 5, 32]                [2, 5, 32]                64                        --                        128\n",
       "│    │    │    └─PositionWiseFFN: 4-11                  [2, 5, 32]                [2, 5, 32]                4,192                     --                        8,384\n",
       "│    │    │    └─AddNorm: 4-12                          [2, 5, 32]                [2, 5, 32]                64                        --                        128\n",
       "│    │    └─TransformerEncoderBlock: 3-4                [2, 5, 32]                [2, 5, 32]                --                        --                        --\n",
       "│    │    │    └─MultiHeadAttention: 4-13               [2, 5, 32]                [2, 5, 32]                4,128                     --                        8,256\n",
       "│    │    │    └─AddNorm: 4-14                          [2, 5, 32]                [2, 5, 32]                64                        --                        128\n",
       "│    │    │    └─PositionWiseFFN: 4-15                  [2, 5, 32]                [2, 5, 32]                4,192                     --                        8,384\n",
       "│    │    │    └─AddNorm: 4-16                          [2, 5, 32]                [2, 5, 32]                64                        --                        128\n",
       "├─TransformerDecoder: 1-2                               [2, 5]                    [2, 5, 90]                --                        --                        --\n",
       "│    └─Embedding: 2-4                                   [2, 5]                    [2, 5, 32]                2,880                     --                        5,760\n",
       "│    └─PositionalEncoding: 2-5                          [2, 5, 32]                [2, 5, 32]                --                        --                        --\n",
       "│    └─Sequential: 2-6                                  --                        --                        --                        --                        --\n",
       "│    │    └─TransformerDecoderBlock: 3-5                [2, 5, 32]                [2, 5, 32]                --                        --                        --\n",
       "│    │    │    └─MultiHeadAttention: 4-17               [2, 5, 32]                [2, 5, 32]                4,128                     --                        8,256\n",
       "│    │    │    └─AddNorm: 4-18                          [2, 5, 32]                [2, 5, 32]                64                        --                        128\n",
       "│    │    │    └─MultiHeadAttention: 4-19               [2, 5, 32]                [2, 5, 32]                4,128                     --                        8,256\n",
       "│    │    │    └─AddNorm: 4-20                          [2, 5, 32]                [2, 5, 32]                64                        --                        128\n",
       "│    │    │    └─PositionWiseFFN: 4-21                  [2, 5, 32]                [2, 5, 32]                4,192                     --                        8,384\n",
       "│    │    │    └─AddNorm: 4-22                          [2, 5, 32]                [2, 5, 32]                64                        --                        128\n",
       "│    │    └─TransformerDecoderBlock: 3-6                [2, 5, 32]                [2, 5, 32]                --                        --                        --\n",
       "│    │    │    └─MultiHeadAttention: 4-23               [2, 5, 32]                [2, 5, 32]                4,128                     --                        8,256\n",
       "│    │    │    └─AddNorm: 4-24                          [2, 5, 32]                [2, 5, 32]                64                        --                        128\n",
       "│    │    │    └─MultiHeadAttention: 4-25               [2, 5, 32]                [2, 5, 32]                4,128                     --                        8,256\n",
       "│    │    │    └─AddNorm: 4-26                          [2, 5, 32]                [2, 5, 32]                64                        --                        128\n",
       "│    │    │    └─PositionWiseFFN: 4-27                  [2, 5, 32]                [2, 5, 32]                4,192                     --                        8,384\n",
       "│    │    │    └─AddNorm: 4-28                          [2, 5, 32]                [2, 5, 32]                64                        --                        128\n",
       "│    │    └─TransformerDecoderBlock: 3-7                [2, 5, 32]                [2, 5, 32]                --                        --                        --\n",
       "│    │    │    └─MultiHeadAttention: 4-29               [2, 5, 32]                [2, 5, 32]                4,128                     --                        8,256\n",
       "│    │    │    └─AddNorm: 4-30                          [2, 5, 32]                [2, 5, 32]                64                        --                        128\n",
       "│    │    │    └─MultiHeadAttention: 4-31               [2, 5, 32]                [2, 5, 32]                4,128                     --                        8,256\n",
       "│    │    │    └─AddNorm: 4-32                          [2, 5, 32]                [2, 5, 32]                64                        --                        128\n",
       "│    │    │    └─PositionWiseFFN: 4-33                  [2, 5, 32]                [2, 5, 32]                4,192                     --                        8,384\n",
       "│    │    │    └─AddNorm: 4-34                          [2, 5, 32]                [2, 5, 32]                64                        --                        128\n",
       "│    │    └─TransformerDecoderBlock: 3-8                [2, 5, 32]                [2, 5, 32]                --                        --                        --\n",
       "│    │    │    └─MultiHeadAttention: 4-35               [2, 5, 32]                [2, 5, 32]                4,128                     --                        8,256\n",
       "│    │    │    └─AddNorm: 4-36                          [2, 5, 32]                [2, 5, 32]                64                        --                        128\n",
       "│    │    │    └─MultiHeadAttention: 4-37               [2, 5, 32]                [2, 5, 32]                4,128                     --                        8,256\n",
       "│    │    │    └─AddNorm: 4-38                          [2, 5, 32]                [2, 5, 32]                64                        --                        128\n",
       "│    │    │    └─PositionWiseFFN: 4-39                  [2, 5, 32]                [2, 5, 32]                4,192                     --                        8,384\n",
       "│    │    │    └─AddNorm: 4-40                          [2, 5, 32]                [2, 5, 32]                64                        --                        128\n",
       "│    │    └─TransformerDecoderBlock: 3-9                [2, 5, 32]                [2, 5, 32]                --                        --                        --\n",
       "│    │    │    └─MultiHeadAttention: 4-41               [2, 5, 32]                [2, 5, 32]                4,128                     --                        8,256\n",
       "│    │    │    └─AddNorm: 4-42                          [2, 5, 32]                [2, 5, 32]                64                        --                        128\n",
       "│    │    │    └─MultiHeadAttention: 4-43               [2, 5, 32]                [2, 5, 32]                4,128                     --                        8,256\n",
       "│    │    │    └─AddNorm: 4-44                          [2, 5, 32]                [2, 5, 32]                64                        --                        128\n",
       "│    │    │    └─PositionWiseFFN: 4-45                  [2, 5, 32]                [2, 5, 32]                4,192                     --                        8,384\n",
       "│    │    │    └─AddNorm: 4-46                          [2, 5, 32]                [2, 5, 32]                64                        --                        128\n",
       "│    │    └─TransformerDecoderBlock: 3-10               [2, 5, 32]                [2, 5, 32]                --                        --                        --\n",
       "│    │    │    └─MultiHeadAttention: 4-47               [2, 5, 32]                [2, 5, 32]                4,128                     --                        8,256\n",
       "│    │    │    └─AddNorm: 4-48                          [2, 5, 32]                [2, 5, 32]                64                        --                        128\n",
       "│    │    │    └─MultiHeadAttention: 4-49               [2, 5, 32]                [2, 5, 32]                4,128                     --                        8,256\n",
       "│    │    │    └─AddNorm: 4-50                          [2, 5, 32]                [2, 5, 32]                64                        --                        128\n",
       "│    │    │    └─PositionWiseFFN: 4-51                  [2, 5, 32]                [2, 5, 32]                4,192                     --                        8,384\n",
       "│    │    │    └─AddNorm: 4-52                          [2, 5, 32]                [2, 5, 32]                64                        --                        128\n",
       "│    │    └─TransformerDecoderBlock: 3-11               [2, 5, 32]                [2, 5, 32]                --                        --                        --\n",
       "│    │    │    └─MultiHeadAttention: 4-53               [2, 5, 32]                [2, 5, 32]                4,128                     --                        8,256\n",
       "│    │    │    └─AddNorm: 4-54                          [2, 5, 32]                [2, 5, 32]                64                        --                        128\n",
       "│    │    │    └─MultiHeadAttention: 4-55               [2, 5, 32]                [2, 5, 32]                4,128                     --                        8,256\n",
       "│    │    │    └─AddNorm: 4-56                          [2, 5, 32]                [2, 5, 32]                64                        --                        128\n",
       "│    │    │    └─PositionWiseFFN: 4-57                  [2, 5, 32]                [2, 5, 32]                4,192                     --                        8,384\n",
       "│    │    │    └─AddNorm: 4-58                          [2, 5, 32]                [2, 5, 32]                64                        --                        128\n",
       "│    │    └─TransformerDecoderBlock: 3-12               [2, 5, 32]                [2, 5, 32]                --                        --                        --\n",
       "│    │    │    └─MultiHeadAttention: 4-59               [2, 5, 32]                [2, 5, 32]                4,128                     --                        8,256\n",
       "│    │    │    └─AddNorm: 4-60                          [2, 5, 32]                [2, 5, 32]                64                        --                        128\n",
       "│    │    │    └─MultiHeadAttention: 4-61               [2, 5, 32]                [2, 5, 32]                4,128                     --                        8,256\n",
       "│    │    │    └─AddNorm: 4-62                          [2, 5, 32]                [2, 5, 32]                64                        --                        128\n",
       "│    │    │    └─PositionWiseFFN: 4-63                  [2, 5, 32]                [2, 5, 32]                4,192                     --                        8,384\n",
       "│    │    │    └─AddNorm: 4-64                          [2, 5, 32]                [2, 5, 32]                64                        --                        128\n",
       "│    └─Linear: 2-7                                      [2, 5, 32]                [2, 5, 90]                2,970                     --                        5,940\n",
       "====================================================================================================================================================================================\n",
       "Total params: 143,514\n",
       "Trainable params: 143,514\n",
       "Non-trainable params: 0\n",
       "Total mult-adds (Units.MEGABYTES): 0.29\n",
       "====================================================================================================================================================================================\n",
       "Input size (MB): 0.00\n",
       "Forward/backward pass size (MB): 0.39\n",
       "Params size (MB): 0.57\n",
       "Estimated Total Size (MB): 0.97\n",
       "===================================================================================================================================================================================="
      ]
     },
     "execution_count": 15,
     "metadata": {},
     "output_type": "execute_result"
    }
   ],
   "source": [
    "# Create a sample input to show the model structure\n",
    "dummy_batch_size = 2\n",
    "dummy_seq_length = 5\n",
    "dummy_x = torch.randint(0, src_vocab_size, (dummy_batch_size, dummy_seq_length))\n",
    "dummy_y = torch.randint(0, tgt_vocab_size, (dummy_batch_size, dummy_seq_length))\n",
    "dummy_z = torch.tensor([1, 2])\n",
    "\n",
    "# Display model summary\n",
    "summary(model, \n",
    "        input_data=[dummy_x, dummy_y, dummy_z],\n",
    "        col_names=[\"input_size\", \"output_size\", \"num_params\", \"kernel_size\", \"mult_adds\"],\n",
    "        depth=4,\n",
    "        device='cpu')"
   ]
  },
  {
   "cell_type": "markdown",
   "id": "71477ecc",
   "metadata": {},
   "source": [
    "## Train the model"
   ]
  },
  {
   "cell_type": "code",
   "execution_count": 16,
   "id": "c0054b92",
   "metadata": {},
   "outputs": [],
   "source": [
    "from time import perf_counter\n",
    "device = torch.device(\"cudo:0\" if torch.cuda.is_available() else \"cpu\")"
   ]
  },
  {
   "cell_type": "code",
   "execution_count": 17,
   "id": "81ab27fc",
   "metadata": {},
   "outputs": [
    {
     "name": "stderr",
     "output_type": "stream",
     "text": [
      "d:\\Study Materials\\PyTorch_ML_AI\\Attention and Transformer\\notebooks\\..\\model\\attention.py:108: TracerWarning: Converting a tensor to a Python float might cause the trace to be incorrect. We can't record the data flow of Python values, so this value will be treated as a constant in the future. This means that the trace might not generalize to other inputs!\n",
      "  scores = torch.bmm(queries, keys.transpose(1, 2)) / torch.tensor(math.sqrt(d))  # (batch_size, num_queries, num_keys)\n",
      "d:\\Study Materials\\PyTorch_ML_AI\\Attention and Transformer\\notebooks\\..\\model\\attention.py:108: TracerWarning: torch.tensor results are registered as constants in the trace. You can safely ignore this warning if you use this function to create tensors out of constant variables that would be the same every time you call this function. In any other case, this might cause the trace to be incorrect.\n",
      "  scores = torch.bmm(queries, keys.transpose(1, 2)) / torch.tensor(math.sqrt(d))  # (batch_size, num_queries, num_keys)\n"
     ]
    },
    {
     "name": "stdout",
     "output_type": "stream",
     "text": [
      "Epoch [1/50]\n",
      "Epoch Average Loss: 0.1223\n",
      "Validation Average Loss: 0.1167\n",
      "Epoch [2/50]\n",
      "Epoch Average Loss: 0.1059\n",
      "Validation Average Loss: 0.1107\n",
      "Epoch [3/50]\n",
      "Epoch Average Loss: 0.1006\n",
      "Validation Average Loss: 0.1094\n",
      "Epoch [4/50]\n",
      "Epoch Average Loss: 0.0965\n",
      "Validation Average Loss: 0.1017\n",
      "Epoch [5/50]\n",
      "Epoch Average Loss: 0.0910\n",
      "Validation Average Loss: 0.1113\n",
      "Epoch [6/50]\n",
      "Epoch Average Loss: 0.0877\n",
      "Validation Average Loss: 0.1091\n",
      "Epoch [7/50]\n",
      "Epoch Average Loss: 0.0847\n",
      "Validation Average Loss: 0.1088\n",
      "Epoch [8/50]\n",
      "Epoch Average Loss: 0.0811\n",
      "Validation Average Loss: 0.1066\n",
      "Epoch [9/50]\n",
      "Epoch Average Loss: 0.0801\n",
      "Validation Average Loss: 0.1092\n",
      "Epoch [10/50]\n",
      "Epoch Average Loss: 0.0785\n",
      "Validation Average Loss: 0.1077\n",
      "Epoch [11/50]\n",
      "Epoch Average Loss: 0.0775\n",
      "Validation Average Loss: 0.1097\n",
      "Epoch [12/50]\n",
      "Epoch Average Loss: 0.0757\n",
      "Validation Average Loss: 0.1078\n",
      "Epoch [13/50]\n",
      "Epoch Average Loss: 0.0756\n",
      "Validation Average Loss: 0.1174\n",
      "Epoch [14/50]\n",
      "Epoch Average Loss: 0.0735\n",
      "Validation Average Loss: 0.1160\n",
      "Epoch [15/50]\n",
      "Epoch Average Loss: 0.0733\n",
      "Validation Average Loss: 0.1219\n",
      "Epoch [16/50]\n",
      "Epoch Average Loss: 0.0737\n",
      "Validation Average Loss: 0.1144\n",
      "Epoch [17/50]\n",
      "Epoch Average Loss: 0.0728\n",
      "Validation Average Loss: 0.1204\n",
      "Epoch [18/50]\n",
      "Epoch Average Loss: 0.0723\n",
      "Validation Average Loss: 0.1197\n",
      "Epoch [19/50]\n",
      "Epoch Average Loss: 0.0724\n",
      "Validation Average Loss: 0.1181\n",
      "Epoch [20/50]\n",
      "Epoch Average Loss: 0.0719\n",
      "Validation Average Loss: 0.1197\n",
      "Epoch [21/50]\n",
      "Epoch Average Loss: 0.0718\n",
      "Validation Average Loss: 0.1183\n",
      "Epoch [22/50]\n",
      "Epoch Average Loss: 0.0713\n",
      "Validation Average Loss: 0.1195\n",
      "Epoch [23/50]\n",
      "Epoch Average Loss: 0.0708\n",
      "Validation Average Loss: 0.1221\n",
      "Epoch [24/50]\n",
      "Epoch Average Loss: 0.0709\n",
      "Validation Average Loss: 0.1244\n",
      "Epoch [25/50]\n",
      "Epoch Average Loss: 0.0707\n",
      "Validation Average Loss: 0.1281\n",
      "Epoch [26/50]\n",
      "Epoch Average Loss: 0.0698\n",
      "Validation Average Loss: 0.1218\n",
      "Epoch [27/50]\n",
      "Epoch Average Loss: 0.0697\n",
      "Validation Average Loss: 0.1261\n",
      "Epoch [28/50]\n",
      "Epoch Average Loss: 0.0696\n",
      "Validation Average Loss: 0.1162\n",
      "Epoch [29/50]\n",
      "Epoch Average Loss: 0.0695\n",
      "Validation Average Loss: 0.1165\n",
      "Epoch [30/50]\n",
      "Epoch Average Loss: 0.0686\n",
      "Validation Average Loss: 0.1198\n",
      "Epoch [31/50]\n",
      "Epoch Average Loss: 0.0692\n",
      "Validation Average Loss: 0.1294\n",
      "Epoch [32/50]\n",
      "Epoch Average Loss: 0.0693\n",
      "Validation Average Loss: 0.1321\n",
      "Epoch [33/50]\n",
      "Epoch Average Loss: 0.0691\n",
      "Validation Average Loss: 0.1229\n",
      "Epoch [34/50]\n",
      "Epoch Average Loss: 0.0693\n",
      "Validation Average Loss: 0.1270\n",
      "Epoch [35/50]\n",
      "Epoch Average Loss: 0.0687\n",
      "Validation Average Loss: 0.1326\n",
      "Epoch [36/50]\n",
      "Epoch Average Loss: 0.0692\n",
      "Validation Average Loss: 0.1274\n",
      "Epoch [37/50]\n",
      "Epoch Average Loss: 0.0691\n",
      "Validation Average Loss: 0.1328\n",
      "Epoch [38/50]\n",
      "Epoch Average Loss: 0.0699\n",
      "Validation Average Loss: 0.1341\n",
      "Epoch [39/50]\n",
      "Epoch Average Loss: 0.0686\n",
      "Validation Average Loss: 0.1265\n",
      "Epoch [40/50]\n",
      "Epoch Average Loss: 0.0683\n",
      "Validation Average Loss: 0.1272\n",
      "Epoch [41/50]\n",
      "Epoch Average Loss: 0.0690\n",
      "Validation Average Loss: 0.1227\n",
      "Epoch [42/50]\n",
      "Epoch Average Loss: 0.0692\n",
      "Validation Average Loss: 0.1271\n",
      "Epoch [43/50]\n",
      "Epoch Average Loss: 0.0687\n",
      "Validation Average Loss: 0.1298\n",
      "Epoch [44/50]\n",
      "Epoch Average Loss: 0.0683\n",
      "Validation Average Loss: 0.1230\n",
      "Epoch [45/50]\n",
      "Epoch Average Loss: 0.0687\n",
      "Validation Average Loss: 0.1338\n",
      "Epoch [46/50]\n",
      "Epoch Average Loss: 0.0680\n",
      "Validation Average Loss: 0.1227\n",
      "Epoch [47/50]\n",
      "Epoch Average Loss: 0.0683\n",
      "Validation Average Loss: 0.1229\n",
      "Epoch [48/50]\n",
      "Epoch Average Loss: 0.0674\n",
      "Validation Average Loss: 0.1340\n",
      "Epoch [49/50]\n",
      "Epoch Average Loss: 0.0682\n",
      "Validation Average Loss: 0.1335\n",
      "Epoch [50/50]\n",
      "Epoch Average Loss: 0.0679\n",
      "Validation Average Loss: 0.1345\n"
     ]
    },
    {
     "data": {
      "text/plain": [
       "'59.89s'"
      ]
     },
     "execution_count": 17,
     "metadata": {},
     "output_type": "execute_result"
    }
   ],
   "source": [
    "start = perf_counter()\n",
    "train_loss, val_loss = minibatch_gd(model, dataset, batch_size, criterion, optimizer, device, num_epochs)\n",
    "end = perf_counter()\n",
    "f'{end-start:.2f}s'"
   ]
  },
  {
   "cell_type": "markdown",
   "id": "05c78eaf",
   "metadata": {},
   "source": [
    "## Plot losses and try to predict"
   ]
  },
  {
   "cell_type": "code",
   "execution_count": 13,
   "id": "4cf60b66",
   "metadata": {},
   "outputs": [
    {
     "data": {
      "image/png": "[encoded data removed]",
      "text/plain": [
       "<Figure size 640x480 with 1 Axes>"
      ]
     },
     "metadata": {},
     "output_type": "display_data"
    }
   ],
   "source": [
    "import matplotlib.pyplot as plt\n",
    "\n",
    "plt.plot(train_loss, label=\"train\")\n",
    "plt.plot(val_loss, label=\"val\")\n",
    "plt.legend()\n",
    "plt.show()"
   ]
  },
  {
   "cell_type": "code",
   "execution_count": 24,
   "id": "87f81312",
   "metadata": {},
   "outputs": [],
   "source": [
    "# Reverse target vocab\n",
    "rev_tgt_vocab = {}\n",
    "for key in dataset.tgt_vocab:\n",
    "    rev_tgt_vocab[dataset.tgt_vocab[key]] = key"
   ]
  },
  {
   "cell_type": "code",
   "execution_count": 31,
   "id": "b9aed05c",
   "metadata": {},
   "outputs": [
    {
     "data": {
      "text/plain": [
       "'<eos> <eos> <eos> <eos> <eos> <eos> <eos> <eos> <eos> <eos>'"
      ]
     },
     "execution_count": 31,
     "metadata": {},
     "output_type": "execute_result"
    }
   ],
   "source": [
    "# Try some prediction\n",
    "# Tokenize example\n",
    "english = [\"go\", \"!\"]\n",
    "indices = []\n",
    "for token in english:\n",
    "    embed_index = dataset.src_vocab[token] if token in dataset.src_vocab else dataset.src_vocab[\"<unk>\"]\n",
    "    indices.append(embed_index)\n",
    "tokens = torch.tensor(indices).reshape(1, -1)\n",
    "\n",
    "# Predict\n",
    "output, _ = model.predict(tokens, None, device, 10)\n",
    "decoded_output = []\n",
    "for idx in output.reshape(-1):\n",
    "    decoded_output.append(rev_tgt_vocab[idx.item()])\n",
    "\" \".join(decoded_output)"
   ]
  }
 ],
 "metadata": {
  "kernelspec": {
   "display_name": "ml-env-cpu",
   "language": "python",
   "name": "python3"
  },
  "language_info": {
   "codemirror_mode": {
    "name": "ipython",
    "version": 3
   },
   "file_extension": ".py",
   "mimetype": "text/x-python",
   "name": "python",
   "nbconvert_exporter": "python",
   "pygments_lexer": "ipython3",
   "version": "3.12.9"
  }
 },
 "nbformat": 4,
 "nbformat_minor": 5
}
